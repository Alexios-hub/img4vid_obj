{
 "cells": [
  {
   "cell_type": "code",
   "execution_count": 11,
   "metadata": {},
   "outputs": [],
   "source": [
    "\n",
    "from nltk.corpus import wordnet as wn\n",
    "import nltk\n",
    "\n",
    "# nltk.download('wordnet')\n"
   ]
  },
  {
   "cell_type": "code",
   "execution_count": 12,
   "metadata": {},
   "outputs": [],
   "source": [
    "nouns=['night','car','view','picture','car','system','hand']"
   ]
  },
  {
   "cell_type": "code",
   "execution_count": 13,
   "metadata": {},
   "outputs": [],
   "source": [
    "def is_word_under_object(word):\n",
    "    # 查找word的所有同义词集\n",
    "    synsets = wn.synsets(word)\n",
    "    \n",
    "    # 对于每个同义词集\n",
    "    for synset in synsets:\n",
    "        # 获取该同义词集到'entity.n.01'（最顶层实体）的hypernym_paths\n",
    "        hypernym_paths = synset.hypernym_paths()\n",
    "        print(hypernym_paths)\n",
    "        \n",
    "        # 检查每条路径\n",
    "        for path in hypernym_paths:\n",
    "            # 检查路径中是否有'object'这个上位词\n",
    "            for hypernym in path:\n",
    "                if hypernym.name().split('.')[0] == 'object':\n",
    "                    return True\n",
    "    return False"
   ]
  },
  {
   "cell_type": "code",
   "execution_count": 14,
   "metadata": {},
   "outputs": [
    {
     "name": "stdout",
     "output_type": "stream",
     "text": [
      "[[Synset('entity.n.01'), Synset('abstraction.n.06'), Synset('measure.n.02'), Synset('fundamental_quantity.n.01'), Synset('time_period.n.01'), Synset('night.n.01')]]\n",
      "[[Synset('entity.n.01'), Synset('abstraction.n.06'), Synset('measure.n.02'), Synset('fundamental_quantity.n.01'), Synset('time_period.n.01'), Synset('night.n.02')]]\n",
      "[[Synset('entity.n.01'), Synset('abstraction.n.06'), Synset('measure.n.02'), Synset('fundamental_quantity.n.01'), Synset('time_period.n.01'), Synset('night.n.03')]]\n",
      "[[Synset('entity.n.01'), Synset('abstraction.n.06'), Synset('measure.n.02'), Synset('time_unit.n.01'), Synset('night.n.04')]]\n",
      "[[Synset('entity.n.01'), Synset('abstraction.n.06'), Synset('attribute.n.02'), Synset('state.n.02'), Synset('illumination.n.02'), Synset('dark.n.01'), Synset('night.n.05')]]\n",
      "[[Synset('entity.n.01'), Synset('abstraction.n.06'), Synset('psychological_feature.n.01'), Synset('cognition.n.01'), Synset('information.n.02'), Synset('datum.n.01'), Synset('reading.n.03'), Synset('clock_time.n.01'), Synset('hour.n.02'), Synset('twilight.n.01'), Synset('night.n.06')]]\n",
      "[[Synset('entity.n.01'), Synset('abstraction.n.06'), Synset('measure.n.02'), Synset('fundamental_quantity.n.01'), Synset('time_period.n.01'), Synset('night.n.07')]]\n",
      "[[Synset('entity.n.01'), Synset('abstraction.n.06'), Synset('psychological_feature.n.01'), Synset('cognition.n.01'), Synset('content.n.05'), Synset('belief.n.01'), Synset('spiritual_being.n.01'), Synset('deity.n.01'), Synset('roman_deity.n.01'), Synset('nox.n.01')]]\n",
      "night is not an object\n",
      "[[Synset('entity.n.01'), Synset('physical_entity.n.01'), Synset('object.n.01'), Synset('whole.n.02'), Synset('artifact.n.01'), Synset('instrumentality.n.03'), Synset('container.n.01'), Synset('wheeled_vehicle.n.01'), Synset('self-propelled_vehicle.n.01'), Synset('motor_vehicle.n.01'), Synset('car.n.01')], [Synset('entity.n.01'), Synset('physical_entity.n.01'), Synset('object.n.01'), Synset('whole.n.02'), Synset('artifact.n.01'), Synset('instrumentality.n.03'), Synset('conveyance.n.03'), Synset('vehicle.n.01'), Synset('wheeled_vehicle.n.01'), Synset('self-propelled_vehicle.n.01'), Synset('motor_vehicle.n.01'), Synset('car.n.01')]]\n",
      "car is an object\n",
      "[[Synset('entity.n.01'), Synset('abstraction.n.06'), Synset('psychological_feature.n.01'), Synset('cognition.n.01'), Synset('attitude.n.01'), Synset('orientation.n.02'), Synset('position.n.03')]]\n",
      "[[Synset('entity.n.01'), Synset('abstraction.n.06'), Synset('psychological_feature.n.01'), Synset('cognition.n.01'), Synset('content.n.05'), Synset('representation.n.01'), Synset('percept.n.01'), Synset('visual_percept.n.01'), Synset('view.n.02')]]\n",
      "[[Synset('entity.n.01'), Synset('abstraction.n.06'), Synset('psychological_feature.n.01'), Synset('event.n.01'), Synset('act.n.02'), Synset('activity.n.01'), Synset('sensory_activity.n.01'), Synset('sensing.n.02'), Synset('look.n.02'), Synset('view.n.03')]]\n",
      "[[Synset('entity.n.01'), Synset('physical_entity.n.01'), Synset('object.n.01'), Synset('location.n.01'), Synset('region.n.01'), Synset('extremity.n.04'), Synset('limit.n.03'), Synset('range.n.02'), Synset('view.n.04')]]\n",
      "view is an object\n",
      "[[Synset('entity.n.01'), Synset('physical_entity.n.01'), Synset('object.n.01'), Synset('whole.n.02'), Synset('artifact.n.01'), Synset('creation.n.02'), Synset('representation.n.02'), Synset('picture.n.01')]]\n",
      "picture is an object\n",
      "[[Synset('entity.n.01'), Synset('physical_entity.n.01'), Synset('object.n.01'), Synset('whole.n.02'), Synset('artifact.n.01'), Synset('instrumentality.n.03'), Synset('container.n.01'), Synset('wheeled_vehicle.n.01'), Synset('self-propelled_vehicle.n.01'), Synset('motor_vehicle.n.01'), Synset('car.n.01')], [Synset('entity.n.01'), Synset('physical_entity.n.01'), Synset('object.n.01'), Synset('whole.n.02'), Synset('artifact.n.01'), Synset('instrumentality.n.03'), Synset('conveyance.n.03'), Synset('vehicle.n.01'), Synset('wheeled_vehicle.n.01'), Synset('self-propelled_vehicle.n.01'), Synset('motor_vehicle.n.01'), Synset('car.n.01')]]\n",
      "car is an object\n",
      "[[Synset('entity.n.01'), Synset('physical_entity.n.01'), Synset('object.n.01'), Synset('whole.n.02'), Synset('artifact.n.01'), Synset('instrumentality.n.03'), Synset('system.n.01')]]\n",
      "system is an object\n",
      "[[Synset('entity.n.01'), Synset('physical_entity.n.01'), Synset('thing.n.12'), Synset('part.n.03'), Synset('body_part.n.01'), Synset('external_body_part.n.01'), Synset('extremity.n.05'), Synset('hand.n.01')]]\n",
      "[[Synset('entity.n.01'), Synset('physical_entity.n.01'), Synset('causal_agent.n.01'), Synset('person.n.01'), Synset('worker.n.01'), Synset('employee.n.01'), Synset('workman.n.01'), Synset('laborer.n.01'), Synset('hired_hand.n.01')], [Synset('entity.n.01'), Synset('physical_entity.n.01'), Synset('object.n.01'), Synset('whole.n.02'), Synset('living_thing.n.01'), Synset('organism.n.01'), Synset('person.n.01'), Synset('worker.n.01'), Synset('employee.n.01'), Synset('workman.n.01'), Synset('laborer.n.01'), Synset('hired_hand.n.01')]]\n",
      "hand is an object\n"
     ]
    }
   ],
   "source": [
    "for word in nouns:\n",
    "    if is_word_under_object(word):\n",
    "        print(f'{word} is an object')\n",
    "    else:\n",
    "        print(f'{word} is not an object')"
   ]
  },
  {
   "cell_type": "code",
   "execution_count": 15,
   "metadata": {},
   "outputs": [
    {
     "name": "stdout",
     "output_type": "stream",
     "text": [
      "[[Synset('entity.n.01'), Synset('abstraction.n.06'), Synset('psychological_feature.n.01'), Synset('cognition.n.01'), Synset('attitude.n.01'), Synset('orientation.n.02'), Synset('position.n.03')]]\n",
      "[[Synset('entity.n.01'), Synset('abstraction.n.06'), Synset('psychological_feature.n.01'), Synset('cognition.n.01'), Synset('content.n.05'), Synset('representation.n.01'), Synset('percept.n.01'), Synset('visual_percept.n.01'), Synset('view.n.02')]]\n",
      "[[Synset('entity.n.01'), Synset('abstraction.n.06'), Synset('psychological_feature.n.01'), Synset('event.n.01'), Synset('act.n.02'), Synset('activity.n.01'), Synset('sensory_activity.n.01'), Synset('sensing.n.02'), Synset('look.n.02'), Synset('view.n.03')]]\n",
      "[[Synset('entity.n.01'), Synset('physical_entity.n.01'), Synset('object.n.01'), Synset('location.n.01'), Synset('region.n.01'), Synset('extremity.n.04'), Synset('limit.n.03'), Synset('range.n.02'), Synset('view.n.04')]]\n"
     ]
    },
    {
     "data": {
      "text/plain": [
       "True"
      ]
     },
     "execution_count": 15,
     "metadata": {},
     "output_type": "execute_result"
    }
   ],
   "source": [
    "word='view'\n",
    "is_word_under_object(word)"
   ]
  }
 ],
 "metadata": {
  "kernelspec": {
   "display_name": "IC4VC",
   "language": "python",
   "name": "python3"
  },
  "language_info": {
   "codemirror_mode": {
    "name": "ipython",
    "version": 3
   },
   "file_extension": ".py",
   "mimetype": "text/x-python",
   "name": "python",
   "nbconvert_exporter": "python",
   "pygments_lexer": "ipython3",
   "version": "3.10.13"
  }
 },
 "nbformat": 4,
 "nbformat_minor": 2
}
